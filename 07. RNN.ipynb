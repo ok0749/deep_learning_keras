{
 "cells": [
  {
   "cell_type": "code",
   "execution_count": 33,
   "id": "bibliographic-sudan",
   "metadata": {},
   "outputs": [],
   "source": [
    "from warnings import filterwarnings\n",
    "filterwarnings('ignore')\n",
    "\n",
    "import matplotlib.pyplot as plt\n",
    "plt.rcParams['figure.figsize'] = (10, 7)\n",
    "import seaborn as sns\n",
    "sns.set()\n",
    "\n",
    "from keras.datasets import reuters, imdb\n",
    "from keras.preprocessing.sequence import pad_sequences\n",
    "from keras.utils import to_categorical\n",
    "from keras.models import Sequential\n",
    "from keras.layers import Dense, Flatten, Embedding, LSTM, Dropout, Conv1D, MaxPool1D"
   ]
  },
  {
   "cell_type": "markdown",
   "id": "jewish-assessment",
   "metadata": {},
   "source": [
    "### 순환 신경망(RNN, Recurrent Neural Network)\n",
    "- 여러 개의 데이터가 순서대로 입력되었을 때 앞서 입력받은 데이터를 잠시 기억해 놓는 방법 \n",
    "- 기억된 데이터가 얼마나 중요한지를 판단하여 별도의 가중치를 줘서 다음 데이터로 넘어간다\n",
    "- 모든 입력 값에 이 작업을 순서대로 실행하므로 다음 층으로 넘어가기 전에 같은 층을 맴도는 것처럼 보인다 그래서 순환 신경망이라고 부른다"
   ]
  },
  {
   "cell_type": "markdown",
   "id": "muslim-absolute",
   "metadata": {},
   "source": [
    "### LSTM(Long Shot Term Memory)\n",
    "- RNN의 특성상 일반 신경망보다 기울기 소실 문제가 더 많이 발생하고 이를 해결하기 어렵다는 단점을 보완한 방법\n",
    "- 반복되기 직전에 다음 층으로 기억된 값을 넘길지 안 넘길지를 관리하는 단계를 하나 더 추가하는 것"
   ]
  },
  {
   "cell_type": "markdown",
   "id": "figured-principle",
   "metadata": {},
   "source": [
    "### 로이터 뉴스 카테고리 분류 - LSTM "
   ]
  },
  {
   "cell_type": "code",
   "execution_count": 2,
   "id": "severe-fellowship",
   "metadata": {},
   "outputs": [],
   "source": [
    "# 로이터 뉴스 데이터 불러와 트레인 테스트셋으로 나누기\n",
    "# 빈도가 1~1000에 해당하는 단어만 불러오기 \n",
    "(x_train, y_train), (x_test, y_test) = reuters.load_data(num_words=1000, test_split=0.2)"
   ]
  },
  {
   "cell_type": "code",
   "execution_count": 3,
   "id": "growing-column",
   "metadata": {},
   "outputs": [
    {
     "data": {
      "text/plain": [
       "array([ 3,  4,  3, ..., 25,  3, 25])"
      ]
     },
     "execution_count": 3,
     "metadata": {},
     "output_type": "execute_result"
    }
   ],
   "source": [
    "y_train"
   ]
  },
  {
   "cell_type": "code",
   "execution_count": 4,
   "id": "velvet-firewall",
   "metadata": {},
   "outputs": [],
   "source": [
    "# 패딩 작업\n",
    "# 단어수를 100개로 맞춘다. \n",
    "# 입력된 기사의 단어 수가 100보다 크면 100개째 단어만 선택하고 나머지는 버린다\n",
    "# 100에서 모자랄 때는 모자라는 부분을 모두 0으로 채운다\n",
    "x_train = pad_sequences(x_train, maxlen=100)\n",
    "x_test = pad_sequences(x_test, maxlen=100)"
   ]
  },
  {
   "cell_type": "code",
   "execution_count": 5,
   "id": "substantial-complaint",
   "metadata": {},
   "outputs": [],
   "source": [
    "# 원-핫 인코딩\n",
    "y_train = to_categorical(y_train)\n",
    "y_test = to_categorical(y_test)"
   ]
  },
  {
   "cell_type": "code",
   "execution_count": 6,
   "id": "sharing-walker",
   "metadata": {},
   "outputs": [],
   "source": [
    "# 모델 설정\n",
    "model = Sequential()\n",
    "# 불러온 단어의 총개수, 기사당 단어 수\n",
    "model.add(Embedding(1000, 100))\n",
    "model.add(LSTM(100, activation='tanh'))\n",
    "model.add(Dense(46, activation='softmax'))"
   ]
  },
  {
   "cell_type": "code",
   "execution_count": 11,
   "id": "heated-hypothesis",
   "metadata": {},
   "outputs": [],
   "source": [
    "# 모델 컴파일\n",
    "model.compile(loss='categorical_crossentropy',\n",
    "             optimizer='adam',\n",
    "             metrics=['accuracy'])"
   ]
  },
  {
   "cell_type": "code",
   "execution_count": 12,
   "id": "directed-reason",
   "metadata": {},
   "outputs": [
    {
     "data": {
      "text/plain": [
       "((8982, 100), (2246, 100), (8982, 46), (2246, 46))"
      ]
     },
     "execution_count": 12,
     "metadata": {},
     "output_type": "execute_result"
    }
   ],
   "source": [
    "x_train.shape, x_test.shape, y_train.shape, y_test.shape"
   ]
  },
  {
   "cell_type": "code",
   "execution_count": 13,
   "id": "nuclear-singapore",
   "metadata": {},
   "outputs": [
    {
     "name": "stdout",
     "output_type": "stream",
     "text": [
      "Model: \"sequential\"\n",
      "_________________________________________________________________\n",
      "Layer (type)                 Output Shape              Param #   \n",
      "=================================================================\n",
      "embedding (Embedding)        (None, None, 100)         100000    \n",
      "_________________________________________________________________\n",
      "lstm (LSTM)                  (None, 100)               80400     \n",
      "_________________________________________________________________\n",
      "dense (Dense)                (None, 46)                4646      \n",
      "=================================================================\n",
      "Total params: 185,046\n",
      "Trainable params: 185,046\n",
      "Non-trainable params: 0\n",
      "_________________________________________________________________\n"
     ]
    }
   ],
   "source": [
    "model.summary()"
   ]
  },
  {
   "cell_type": "code",
   "execution_count": 14,
   "id": "amino-cisco",
   "metadata": {},
   "outputs": [
    {
     "name": "stdout",
     "output_type": "stream",
     "text": [
      "Epoch 1/20\n",
      "90/90 [==============================] - 24s 240ms/step - loss: 2.9421 - accuracy: 0.3242 - val_loss: 2.3913 - val_accuracy: 0.3620\n",
      "Epoch 2/20\n",
      "90/90 [==============================] - 20s 221ms/step - loss: 2.2001 - accuracy: 0.4259 - val_loss: 2.0081 - val_accuracy: 0.4622\n",
      "Epoch 3/20\n",
      "90/90 [==============================] - 20s 222ms/step - loss: 1.8829 - accuracy: 0.4985 - val_loss: 1.8475 - val_accuracy: 0.5321\n",
      "Epoch 4/20\n",
      "90/90 [==============================] - 20s 221ms/step - loss: 1.7676 - accuracy: 0.5426 - val_loss: 1.7465 - val_accuracy: 0.5552\n",
      "Epoch 5/20\n",
      "90/90 [==============================] - 20s 223ms/step - loss: 1.6925 - accuracy: 0.5624 - val_loss: 1.6786 - val_accuracy: 0.5726\n",
      "Epoch 6/20\n",
      "90/90 [==============================] - 20s 224ms/step - loss: 1.6033 - accuracy: 0.5807 - val_loss: 1.6810 - val_accuracy: 0.5672\n",
      "Epoch 7/20\n",
      "90/90 [==============================] - 20s 222ms/step - loss: 1.5699 - accuracy: 0.6007 - val_loss: 1.5998 - val_accuracy: 0.6002\n",
      "Epoch 8/20\n",
      "90/90 [==============================] - 20s 223ms/step - loss: 1.4621 - accuracy: 0.6330 - val_loss: 1.5194 - val_accuracy: 0.6171\n",
      "Epoch 9/20\n",
      "90/90 [==============================] - 20s 222ms/step - loss: 1.3512 - accuracy: 0.6522 - val_loss: 1.4778 - val_accuracy: 0.6260\n",
      "Epoch 10/20\n",
      "90/90 [==============================] - 20s 225ms/step - loss: 1.2555 - accuracy: 0.6752 - val_loss: 1.3585 - val_accuracy: 0.6572\n",
      "Epoch 11/20\n",
      "90/90 [==============================] - 21s 228ms/step - loss: 1.1957 - accuracy: 0.6931 - val_loss: 1.3193 - val_accuracy: 0.6710\n",
      "Epoch 12/20\n",
      "90/90 [==============================] - 20s 223ms/step - loss: 1.1183 - accuracy: 0.7121 - val_loss: 1.2984 - val_accuracy: 0.6817\n",
      "Epoch 13/20\n",
      "90/90 [==============================] - 20s 223ms/step - loss: 1.0342 - accuracy: 0.7356 - val_loss: 1.2940 - val_accuracy: 0.6808\n",
      "Epoch 14/20\n",
      "90/90 [==============================] - 20s 223ms/step - loss: 1.0008 - accuracy: 0.7447 - val_loss: 1.2427 - val_accuracy: 0.6928\n",
      "Epoch 15/20\n",
      "90/90 [==============================] - 20s 224ms/step - loss: 0.9577 - accuracy: 0.7564 - val_loss: 1.2220 - val_accuracy: 0.6915\n",
      "Epoch 16/20\n",
      "90/90 [==============================] - 20s 223ms/step - loss: 0.8824 - accuracy: 0.7766 - val_loss: 1.2319 - val_accuracy: 0.6923\n",
      "Epoch 17/20\n",
      "90/90 [==============================] - 20s 224ms/step - loss: 0.8446 - accuracy: 0.7823 - val_loss: 1.2459 - val_accuracy: 0.6937\n",
      "Epoch 18/20\n",
      "90/90 [==============================] - 20s 223ms/step - loss: 0.8495 - accuracy: 0.7789 - val_loss: 1.2862 - val_accuracy: 0.6888\n",
      "Epoch 19/20\n",
      "90/90 [==============================] - 20s 223ms/step - loss: 0.8652 - accuracy: 0.7774 - val_loss: 1.2785 - val_accuracy: 0.6923\n",
      "Epoch 20/20\n",
      "90/90 [==============================] - 20s 223ms/step - loss: 0.7669 - accuracy: 0.8018 - val_loss: 1.2367 - val_accuracy: 0.7075\n"
     ]
    }
   ],
   "source": [
    "# 모델 실행\n",
    "history = model.fit(x_train, y_train, validation_data=(x_test, y_test), batch_size=100, epochs=20)"
   ]
  },
  {
   "cell_type": "code",
   "execution_count": 16,
   "id": "affecting-projector",
   "metadata": {},
   "outputs": [
    {
     "name": "stdout",
     "output_type": "stream",
     "text": [
      "71/71 [==============================] - 2s 24ms/step - loss: 1.2367 - accuracy: 0.7075\n"
     ]
    },
    {
     "data": {
      "text/plain": [
       "0.7074799537658691"
      ]
     },
     "execution_count": 16,
     "metadata": {},
     "output_type": "execute_result"
    }
   ],
   "source": [
    "# 정확도\n",
    "model.evaluate(x_test, y_test)[1]"
   ]
  },
  {
   "cell_type": "code",
   "execution_count": 19,
   "id": "beneficial-centre",
   "metadata": {},
   "outputs": [],
   "source": [
    "# 오차값 변수 저장\n",
    "loss = history.history['loss']\n",
    "v_loss = history.history['val_loss']"
   ]
  },
  {
   "cell_type": "code",
   "execution_count": 23,
   "id": "informal-hazard",
   "metadata": {},
   "outputs": [
    {
     "data": {
      "image/png": "[encoded data removed]",
      "text/plain": [
       "<Figure size 720x504 with 1 Axes>"
      ]
     },
     "metadata": {},
     "output_type": "display_data"
    }
   ],
   "source": [
    "# 오차 시각화\n",
    "plt.plot(loss, marker='.', c='r', label='train_loss')\n",
    "plt.plot(v_loss, marker='.', c='b', label='test_loss')\n",
    "plt.legend()\n",
    "plt.show()"
   ]
  },
  {
   "cell_type": "markdown",
   "id": "golden-ferry",
   "metadata": {},
   "source": [
    "### 영화 리뷰 분류 - LSTM + CNN"
   ]
  },
  {
   "cell_type": "code",
   "execution_count": 26,
   "id": "organizational-lawyer",
   "metadata": {},
   "outputs": [
    {
     "name": "stdout",
     "output_type": "stream",
     "text": [
      "Downloading data from https://storage.googleapis.com/tensorflow/tf-keras-datasets/imdb.npz\n",
      "17465344/17464789 [==============================] - 2s 0us/step\n"
     ]
    }
   ],
   "source": [
    "# 영화 리뷰 데이터 불러와 트레인, 테스트셋으로 나누기\n",
    "(x_train, y_train), (x_test, y_test) = imdb.load_data(num_words=5000)"
   ]
  },
  {
   "cell_type": "code",
   "execution_count": 30,
   "id": "median-alias",
   "metadata": {},
   "outputs": [],
   "source": [
    "# 패딩 작업\n",
    "x_train = pad_sequences(x_train, maxlen=100)\n",
    "x_test = pad_sequences(x_test, maxlen=100)"
   ]
  },
  {
   "cell_type": "code",
   "execution_count": 34,
   "id": "cloudy-specialist",
   "metadata": {},
   "outputs": [],
   "source": [
    "# 모델 설정\n",
    "model = Sequential()\n",
    "model.add(Embedding(5000, 100))\n",
    "model.add(Dropout(0.5))\n",
    "model.add(Conv1D(64, 5, padding='valid', activation='relu', strides=1))\n",
    "model.add(MaxPool1D(pool_size=4))\n",
    "model.add(LSTM(55))\n",
    "model.add(Dense(1, activation='sigmoid'))"
   ]
  },
  {
   "cell_type": "code",
   "execution_count": 35,
   "id": "fantastic-parks",
   "metadata": {},
   "outputs": [
    {
     "name": "stdout",
     "output_type": "stream",
     "text": [
      "Model: \"sequential_1\"\n",
      "_________________________________________________________________\n",
      "Layer (type)                 Output Shape              Param #   \n",
      "=================================================================\n",
      "embedding_1 (Embedding)      (None, None, 100)         500000    \n",
      "_________________________________________________________________\n",
      "dropout (Dropout)            (None, None, 100)         0         \n",
      "_________________________________________________________________\n",
      "conv1d (Conv1D)              (None, None, 64)          32064     \n",
      "_________________________________________________________________\n",
      "max_pooling1d (MaxPooling1D) (None, None, 64)          0         \n",
      "_________________________________________________________________\n",
      "lstm_1 (LSTM)                (None, 55)                26400     \n",
      "_________________________________________________________________\n",
      "dense_1 (Dense)              (None, 1)                 56        \n",
      "=================================================================\n",
      "Total params: 558,520\n",
      "Trainable params: 558,520\n",
      "Non-trainable params: 0\n",
      "_________________________________________________________________\n"
     ]
    }
   ],
   "source": [
    "model.summary()"
   ]
  },
  {
   "cell_type": "code",
   "execution_count": 36,
   "id": "brutal-memorial",
   "metadata": {},
   "outputs": [],
   "source": [
    "# 모델 컴파일\n",
    "model.compile(loss='binary_crossentropy',\n",
    "             optimizer='adam',\n",
    "             metrics=['accuracy'])"
   ]
  },
  {
   "cell_type": "code",
   "execution_count": 37,
   "id": "unauthorized-differential",
   "metadata": {},
   "outputs": [
    {
     "name": "stdout",
     "output_type": "stream",
     "text": [
      "Epoch 1/5\n",
      "250/250 [==============================] - 30s 113ms/step - loss: 0.5684 - accuracy: 0.6612 - val_loss: 0.3418 - val_accuracy: 0.8488\n",
      "Epoch 2/5\n",
      "250/250 [==============================] - 28s 111ms/step - loss: 0.2918 - accuracy: 0.8789 - val_loss: 0.3273 - val_accuracy: 0.8552\n",
      "Epoch 3/5\n",
      "250/250 [==============================] - 28s 111ms/step - loss: 0.2401 - accuracy: 0.9040 - val_loss: 0.3374 - val_accuracy: 0.8502\n",
      "Epoch 4/5\n",
      "250/250 [==============================] - 28s 110ms/step - loss: 0.2046 - accuracy: 0.9188 - val_loss: 0.3367 - val_accuracy: 0.8552\n",
      "Epoch 5/5\n",
      "250/250 [==============================] - 28s 111ms/step - loss: 0.1680 - accuracy: 0.9378 - val_loss: 0.3527 - val_accuracy: 0.8540\n"
     ]
    }
   ],
   "source": [
    "# 모델 실행\n",
    "history = model.fit(x_train, y_train, batch_size=100, epochs=5, validation_data=(x_test, y_test))"
   ]
  },
  {
   "cell_type": "code",
   "execution_count": 38,
   "id": "exceptional-warrior",
   "metadata": {},
   "outputs": [
    {
     "name": "stdout",
     "output_type": "stream",
     "text": [
      "782/782 [==============================] - 7s 9ms/step - loss: 0.3527 - accuracy: 0.8540\n"
     ]
    },
    {
     "data": {
      "text/plain": [
       "0.8540400266647339"
      ]
     },
     "execution_count": 38,
     "metadata": {},
     "output_type": "execute_result"
    }
   ],
   "source": [
    "# 정확도\n",
    "model.evaluate(x_test, y_test)[1]"
   ]
  },
  {
   "cell_type": "code",
   "execution_count": 39,
   "id": "offshore-measure",
   "metadata": {},
   "outputs": [],
   "source": [
    "# 오차값 변수 저장\n",
    "loss = history.history['loss']\n",
    "v_loss = history.history['val_loss']"
   ]
  },
  {
   "cell_type": "code",
   "execution_count": 40,
   "id": "close-faith",
   "metadata": {},
   "outputs": [
    {
     "data": {
      "image/png": "[encoded data removed]",
      "text/plain": [
       "<Figure size 720x504 with 1 Axes>"
      ]
     },
     "metadata": {},
     "output_type": "display_data"
    }
   ],
   "source": [
    "# 오차 시각화\n",
    "plt.plot(loss, marker='.', c='r', label='train_loss')\n",
    "plt.plot(v_loss, marker='.', c='b', label='test_loss')\n",
    "plt.legend()\n",
    "plt.show()"
   ]
  }
 ],
 "metadata": {
  "kernelspec": {
   "display_name": "Python 3",
   "language": "python",
   "name": "python3"
  },
  "language_info": {
   "codemirror_mode": {
    "name": "ipython",
    "version": 3
   },
   "file_extension": ".py",
   "mimetype": "text/x-python",
   "name": "python",
   "nbconvert_exporter": "python",
   "pygments_lexer": "ipython3",
   "version": "3.7.6"
  }
 },
 "nbformat": 4,
 "nbformat_minor": 5
}
