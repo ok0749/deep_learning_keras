{
 "cells": [
  {
   "cell_type": "code",
   "execution_count": 81,
   "id": "secondary-configuration",
   "metadata": {},
   "outputs": [],
   "source": [
    "import numpy as np\n",
    "import pandas as pd\n",
    "import tensorflow as tf\n",
    "\n",
    "from sklearn.metrics import classification_report\n",
    "\n",
    "from keras.preprocessing.text import text_to_word_sequence, Tokenizer\n",
    "from keras.preprocessing.sequence import pad_sequences\n",
    "from keras.utils import to_categorical\n",
    "from keras.layers import Embedding, Dense, Flatten\n",
    "from keras.models import Sequential"
   ]
  },
  {
   "cell_type": "markdown",
   "id": "connected-snake",
   "metadata": {},
   "source": [
    "### 자연어 처리(Natural Language Processing, NLP)\n",
    "자연어란 우리가 평소에 말하는 음성이나 텍스트를 말한다. 즉 자연어 처리는 이러한 음성이나 텍스트를 컴퓨터가 인식하고 처리하는 것을 말한다"
   ]
  },
  {
   "cell_type": "markdown",
   "id": "compound-extraction",
   "metadata": {},
   "source": [
    "#### 텍스트 토큰화\n",
    "- 입력할 텍스트가 준비되면 이를 단어별, 문장별, 형태소별로 나눌 수 있는데, 이렇게 작게 나누어진 하나의 단위를 토큰(token)이라고 부른다.\n",
    "- 입력된 텍스트를 잘게 나누는 과정을 토큰화(tokenization)라고 한다."
   ]
  },
  {
   "cell_type": "code",
   "execution_count": 2,
   "id": "interracial-component",
   "metadata": {},
   "outputs": [
    {
     "data": {
      "text/plain": [
       "['해보지', '않으면', '해낼', '수', '없다']"
      ]
     },
     "execution_count": 2,
     "metadata": {},
     "output_type": "execute_result"
    }
   ],
   "source": [
    "# 문장을 단어로 나누기\n",
    "text = '해보지 않으면 해낼 수 없다'\n",
    "result = text_to_word_sequence(text)\n",
    "result"
   ]
  },
  {
   "cell_type": "code",
   "execution_count": 4,
   "id": "rolled-essay",
   "metadata": {},
   "outputs": [
    {
     "data": {
      "text/plain": [
       "OrderedDict([('먼저', 1),\n",
       "             ('텍스트의', 2),\n",
       "             ('각', 1),\n",
       "             ('단어를', 1),\n",
       "             ('나누어', 1),\n",
       "             ('토큰화합니다', 1),\n",
       "             ('단어로', 1),\n",
       "             ('토큰화해야', 1),\n",
       "             ('딥러닝에서', 2),\n",
       "             ('인식됩니다', 1),\n",
       "             ('토큰화한', 1),\n",
       "             ('결과는', 1),\n",
       "             ('사용할', 1),\n",
       "             ('수', 1),\n",
       "             ('있습니다', 1)])"
      ]
     },
     "execution_count": 4,
     "metadata": {},
     "output_type": "execute_result"
    }
   ],
   "source": [
    "# 단어 빈도 계산\n",
    "docs = ['먼저 텍스트의 각 단어를 나누어 토큰화합니다.',\n",
    "       '텍스트의 단어로 토큰화해야 딥러닝에서 인식됩니다.',\n",
    "       '토큰화한 결과는 딥러닝에서 사용할 수 있습니다.']\n",
    "token = Tokenizer()\n",
    "token.fit_on_texts(docs)\n",
    "token.word_counts"
   ]
  },
  {
   "cell_type": "code",
   "execution_count": 6,
   "id": "nominated-queensland",
   "metadata": {},
   "outputs": [
    {
     "data": {
      "text/plain": [
       "3"
      ]
     },
     "execution_count": 6,
     "metadata": {},
     "output_type": "execute_result"
    }
   ],
   "source": [
    "# 총 몇 개의 문장이 들어있는지 보기\n",
    "token.document_count"
   ]
  },
  {
   "cell_type": "code",
   "execution_count": 8,
   "id": "square-fiber",
   "metadata": {},
   "outputs": [
    {
     "data": {
      "text/plain": [
       "defaultdict(int,\n",
       "            {'먼저': 1,\n",
       "             '텍스트의': 2,\n",
       "             '나누어': 1,\n",
       "             '단어를': 1,\n",
       "             '토큰화합니다': 1,\n",
       "             '각': 1,\n",
       "             '딥러닝에서': 2,\n",
       "             '토큰화해야': 1,\n",
       "             '인식됩니다': 1,\n",
       "             '단어로': 1,\n",
       "             '있습니다': 1,\n",
       "             '결과는': 1,\n",
       "             '토큰화한': 1,\n",
       "             '수': 1,\n",
       "             '사용할': 1})"
      ]
     },
     "execution_count": 8,
     "metadata": {},
     "output_type": "execute_result"
    }
   ],
   "source": [
    "# 각 단어들이 몇 개의 문장에 나오는지 보기\n",
    "token.word_docs"
   ]
  },
  {
   "cell_type": "code",
   "execution_count": 9,
   "id": "common-brook",
   "metadata": {},
   "outputs": [
    {
     "data": {
      "text/plain": [
       "{'텍스트의': 1,\n",
       " '딥러닝에서': 2,\n",
       " '먼저': 3,\n",
       " '각': 4,\n",
       " '단어를': 5,\n",
       " '나누어': 6,\n",
       " '토큰화합니다': 7,\n",
       " '단어로': 8,\n",
       " '토큰화해야': 9,\n",
       " '인식됩니다': 10,\n",
       " '토큰화한': 11,\n",
       " '결과는': 12,\n",
       " '사용할': 13,\n",
       " '수': 14,\n",
       " '있습니다': 15}"
      ]
     },
     "execution_count": 9,
     "metadata": {},
     "output_type": "execute_result"
    }
   ],
   "source": [
    "# 각 단어에 매겨진 인덱스 값 보기\n",
    "token.word_index"
   ]
  },
  {
   "cell_type": "markdown",
   "id": "smart-cleanup",
   "metadata": {},
   "source": [
    "#### 단어 원-핫 인코딩\n",
    "- 각 단어를 모두 0으로 바꿔주고 원하는 단어만 1로 바꾼다.\n",
    "- 파이썬 배열의 인덱스는 0부터 시작하므로, 맨 앞에 0이 추가되는 것에 주의한다."
   ]
  },
  {
   "cell_type": "code",
   "execution_count": 14,
   "id": "graduate-glossary",
   "metadata": {},
   "outputs": [
    {
     "data": {
      "text/plain": [
       "{'해보지': 1, '않으면': 2, '해낼': 3, '수': 4, '없다': 5}"
      ]
     },
     "execution_count": 14,
     "metadata": {},
     "output_type": "execute_result"
    }
   ],
   "source": [
    "token = Tokenizer()\n",
    "# 입력을 배열로\n",
    "token.fit_on_texts([text])\n",
    "# 각 단어의 인덱스 값\n",
    "token.word_index"
   ]
  },
  {
   "cell_type": "code",
   "execution_count": 15,
   "id": "fundamental-grain",
   "metadata": {},
   "outputs": [
    {
     "data": {
      "text/plain": [
       "[[1, 2, 3, 4, 5]]"
      ]
     },
     "execution_count": 15,
     "metadata": {},
     "output_type": "execute_result"
    }
   ],
   "source": [
    "# 인덱스로만 채워진 새로운 배열 생성\n",
    "x = token.texts_to_sequences([text])\n",
    "x"
   ]
  },
  {
   "cell_type": "code",
   "execution_count": 18,
   "id": "private-myanmar",
   "metadata": {},
   "outputs": [
    {
     "data": {
      "text/plain": [
       "array([[[0., 1., 0., 0., 0., 0.],\n",
       "        [0., 0., 1., 0., 0., 0.],\n",
       "        [0., 0., 0., 1., 0., 0.],\n",
       "        [0., 0., 0., 0., 1., 0.],\n",
       "        [0., 0., 0., 0., 0., 1.]]], dtype=float32)"
      ]
     },
     "execution_count": 18,
     "metadata": {},
     "output_type": "execute_result"
    }
   ],
   "source": [
    "# 원-핫 인코딩\n",
    "# 첫번째 인덱스 값은 0\n",
    "x = to_categorical(x)\n",
    "x"
   ]
  },
  {
   "cell_type": "markdown",
   "id": "preceding-german",
   "metadata": {},
   "source": [
    "#### 단어 임베딩\n",
    "- 원-핫 인코딩을 사용하면 벡터의 길이가 너무 길어진다는 단점이 있다.\n",
    "- 이러한 공간적 낭비를 해결하기 위해 등장한 것이 단어 임베딩(word embedding)이라는 방법이다\n",
    "- 주어진 배열을 정해진 길이로 압축시킨다.\n",
    "- 각 단어 간의 유사도를 계산하여 각 배열을 새로운 수치로 바꿔준다\n",
    "- ex) Embedding(16, 4)\n",
    "    - 16: 입력될 총 단어 수\n",
    "    - 4: 임베딩 후 출력되는 벡터 크기"
   ]
  },
  {
   "cell_type": "markdown",
   "id": "tender-wilson",
   "metadata": {},
   "source": [
    "### 텍스트 읽고 긍정, 부정 예측하기"
   ]
  },
  {
   "cell_type": "code",
   "execution_count": 48,
   "id": "sorted-swing",
   "metadata": {},
   "outputs": [],
   "source": [
    "# 텍스트 리뷰 자료\n",
    "docs = ['너무 재밌네요', '최고예요', '참 잘 만든 영화예요', '추천하고 싶은 영화입니다.', '한 번 더 보고싶네요',\n",
    "        '글쎄요', '별로예요', '생각보다 지루하네요', '연기가 어색해요', '재미없어요']\n",
    "\n",
    "# 긍정 리뷰 1, 부정 리뷰 0으로 클래스 지정\n",
    "labels = np.array([1, 1, 1, 1, 1, 0, 0, 0, 0, 0])"
   ]
  },
  {
   "cell_type": "code",
   "execution_count": 49,
   "id": "premium-orleans",
   "metadata": {},
   "outputs": [
    {
     "data": {
      "text/plain": [
       "{'너무': 1,\n",
       " '재밌네요': 2,\n",
       " '최고예요': 3,\n",
       " '참': 4,\n",
       " '잘': 5,\n",
       " '만든': 6,\n",
       " '영화예요': 7,\n",
       " '추천하고': 8,\n",
       " '싶은': 9,\n",
       " '영화입니다': 10,\n",
       " '한': 11,\n",
       " '번': 12,\n",
       " '더': 13,\n",
       " '보고싶네요': 14,\n",
       " '글쎄요': 15,\n",
       " '별로예요': 16,\n",
       " '생각보다': 17,\n",
       " '지루하네요': 18,\n",
       " '연기가': 19,\n",
       " '어색해요': 20,\n",
       " '재미없어요': 21}"
      ]
     },
     "execution_count": 49,
     "metadata": {},
     "output_type": "execute_result"
    }
   ],
   "source": [
    "# 토큰화\n",
    "token = Tokenizer()\n",
    "token.fit_on_texts(docs)\n",
    "token.word_index"
   ]
  },
  {
   "cell_type": "code",
   "execution_count": 50,
   "id": "vertical-calculation",
   "metadata": {},
   "outputs": [
    {
     "data": {
      "text/plain": [
       "[[1, 2],\n",
       " [3],\n",
       " [4, 5, 6, 7],\n",
       " [8, 9, 10],\n",
       " [11, 12, 13, 14],\n",
       " [15],\n",
       " [16],\n",
       " [17, 18],\n",
       " [19, 20],\n",
       " [21]]"
      ]
     },
     "execution_count": 50,
     "metadata": {},
     "output_type": "execute_result"
    }
   ],
   "source": [
    "# 토큰에 지정된 인덱스로 새로운 배열 생성\n",
    "x = token.texts_to_sequences(docs)\n",
    "x"
   ]
  },
  {
   "cell_type": "code",
   "execution_count": 51,
   "id": "pacific-diploma",
   "metadata": {},
   "outputs": [
    {
     "data": {
      "text/plain": [
       "array([[ 0,  0,  1,  2],\n",
       "       [ 0,  0,  0,  3],\n",
       "       [ 4,  5,  6,  7],\n",
       "       [ 0,  8,  9, 10],\n",
       "       [11, 12, 13, 14],\n",
       "       [ 0,  0,  0, 15],\n",
       "       [ 0,  0,  0, 16],\n",
       "       [ 0,  0, 17, 18],\n",
       "       [ 0,  0, 19, 20],\n",
       "       [ 0,  0,  0, 21]], dtype=int32)"
      ]
     },
     "execution_count": 51,
     "metadata": {},
     "output_type": "execute_result"
    }
   ],
   "source": [
    "# 패딩 작업(padding, 길이를 똑같이 맞춰 주는 작업)\n",
    "padded_x = pad_sequences(x)\n",
    "padded_x"
   ]
  },
  {
   "cell_type": "code",
   "execution_count": 52,
   "id": "pregnant-movement",
   "metadata": {},
   "outputs": [],
   "source": [
    "# 단어 수 \n",
    "# 전체 단어의 맨 앞에 0이 먼저 나와야 하므로 총 단어 수 더하기 1\n",
    "word_size = len(token.word_index) + 1"
   ]
  },
  {
   "cell_type": "code",
   "execution_count": 53,
   "id": "operational-wednesday",
   "metadata": {},
   "outputs": [],
   "source": [
    "# seed 설정\n",
    "seed = 0\n",
    "np.random.seed(seed)\n",
    "tf.random.set_seed(seed)"
   ]
  },
  {
   "cell_type": "code",
   "execution_count": 54,
   "id": "dedicated-longer",
   "metadata": {},
   "outputs": [],
   "source": [
    "# 모델 설정\n",
    "model = Sequential()\n",
    "model.add(Embedding(word_size, 8, input_length=4))\n",
    "model.add(Flatten())\n",
    "model.add(Dense(1, activation='sigmoid'))"
   ]
  },
  {
   "cell_type": "code",
   "execution_count": 55,
   "id": "instant-klein",
   "metadata": {},
   "outputs": [],
   "source": [
    "# 모델 컴파일\n",
    "model.compile(loss='binary_crossentropy',\n",
    "             optimizer='adam',\n",
    "             metrics=['accuracy'])"
   ]
  },
  {
   "cell_type": "code",
   "execution_count": 56,
   "id": "deluxe-pasta",
   "metadata": {},
   "outputs": [
    {
     "name": "stdout",
     "output_type": "stream",
     "text": [
      "Epoch 1/20\n",
      "1/1 [==============================] - 1s 841ms/step - loss: 0.6966 - accuracy: 0.5000\n",
      "Epoch 2/20\n",
      "1/1 [==============================] - 0s 17ms/step - loss: 0.6940 - accuracy: 0.5000\n",
      "Epoch 3/20\n",
      "1/1 [==============================] - 0s 14ms/step - loss: 0.6915 - accuracy: 0.5000\n",
      "Epoch 4/20\n",
      "1/1 [==============================] - 0s 11ms/step - loss: 0.6891 - accuracy: 0.5000\n",
      "Epoch 5/20\n",
      "1/1 [==============================] - 0s 10ms/step - loss: 0.6866 - accuracy: 0.6000\n",
      "Epoch 6/20\n",
      "1/1 [==============================] - 0s 6ms/step - loss: 0.6841 - accuracy: 0.6000\n",
      "Epoch 7/20\n",
      "1/1 [==============================] - 0s 4ms/step - loss: 0.6817 - accuracy: 0.6000\n",
      "Epoch 8/20\n",
      "1/1 [==============================] - 0s 12ms/step - loss: 0.6792 - accuracy: 0.6000\n",
      "Epoch 9/20\n",
      "1/1 [==============================] - 0s 6ms/step - loss: 0.6768 - accuracy: 0.7000\n",
      "Epoch 10/20\n",
      "1/1 [==============================] - 0s 20ms/step - loss: 0.6743 - accuracy: 0.8000\n",
      "Epoch 11/20\n",
      "1/1 [==============================] - 0s 6ms/step - loss: 0.6719 - accuracy: 0.8000\n",
      "Epoch 12/20\n",
      "1/1 [==============================] - 0s 5ms/step - loss: 0.6695 - accuracy: 0.8000\n",
      "Epoch 13/20\n",
      "1/1 [==============================] - 0s 19ms/step - loss: 0.6670 - accuracy: 0.8000\n",
      "Epoch 14/20\n",
      "1/1 [==============================] - 0s 7ms/step - loss: 0.6646 - accuracy: 0.8000\n",
      "Epoch 15/20\n",
      "1/1 [==============================] - 0s 5ms/step - loss: 0.6622 - accuracy: 0.8000\n",
      "Epoch 16/20\n",
      "1/1 [==============================] - 0s 65ms/step - loss: 0.6598 - accuracy: 0.9000\n",
      "Epoch 17/20\n",
      "1/1 [==============================] - 0s 6ms/step - loss: 0.6574 - accuracy: 0.9000\n",
      "Epoch 18/20\n",
      "1/1 [==============================] - 0s 4ms/step - loss: 0.6550 - accuracy: 1.0000\n",
      "Epoch 19/20\n",
      "1/1 [==============================] - 0s 7ms/step - loss: 0.6525 - accuracy: 1.0000\n",
      "Epoch 20/20\n",
      "1/1 [==============================] - 0s 7ms/step - loss: 0.6501 - accuracy: 1.0000\n"
     ]
    },
    {
     "data": {
      "text/plain": [
       "<tensorflow.python.keras.callbacks.History at 0x142c60cd0>"
      ]
     },
     "execution_count": 56,
     "metadata": {},
     "output_type": "execute_result"
    }
   ],
   "source": [
    "# 모델 실행\n",
    "model.fit(padded_x, labels, epochs=20)"
   ]
  },
  {
   "cell_type": "code",
   "execution_count": 60,
   "id": "unusual-assets",
   "metadata": {},
   "outputs": [
    {
     "name": "stdout",
     "output_type": "stream",
     "text": [
      "1/1 [==============================] - 0s 169ms/step - loss: 0.6477 - accuracy: 1.0000\n"
     ]
    },
    {
     "data": {
      "text/plain": [
       "1.0"
      ]
     },
     "execution_count": 60,
     "metadata": {},
     "output_type": "execute_result"
    }
   ],
   "source": [
    "# 정확도\n",
    "model.evaluate(padded_x, labels)[1]"
   ]
  },
  {
   "cell_type": "code",
   "execution_count": 78,
   "id": "aggressive-beginning",
   "metadata": {},
   "outputs": [
    {
     "data": {
      "text/plain": [
       "array([1, 1, 1, 1, 1, 0, 0, 0, 0, 0])"
      ]
     },
     "execution_count": 78,
     "metadata": {},
     "output_type": "execute_result"
    }
   ],
   "source": [
    "# 예측\n",
    "y_pred = (model.predict(padded_x) > 0.5).astype(int)\n",
    "y_pred = y_pred.reshape(y_pred.shape[0])\n",
    "y_pred"
   ]
  },
  {
   "cell_type": "code",
   "execution_count": 80,
   "id": "packed-qualification",
   "metadata": {},
   "outputs": [
    {
     "data": {
      "text/html": [
       "<div>\n",
       "<style scoped>\n",
       "    .dataframe tbody tr th:only-of-type {\n",
       "        vertical-align: middle;\n",
       "    }\n",
       "\n",
       "    .dataframe tbody tr th {\n",
       "        vertical-align: top;\n",
       "    }\n",
       "\n",
       "    .dataframe thead th {\n",
       "        text-align: right;\n",
       "    }\n",
       "</style>\n",
       "<table border=\"1\" class=\"dataframe\">\n",
       "  <thead>\n",
       "    <tr style=\"text-align: right;\">\n",
       "      <th>Predicted</th>\n",
       "      <th>0</th>\n",
       "      <th>1</th>\n",
       "    </tr>\n",
       "    <tr>\n",
       "      <th>Actual</th>\n",
       "      <th></th>\n",
       "      <th></th>\n",
       "    </tr>\n",
       "  </thead>\n",
       "  <tbody>\n",
       "    <tr>\n",
       "      <th>0</th>\n",
       "      <td>5</td>\n",
       "      <td>0</td>\n",
       "    </tr>\n",
       "    <tr>\n",
       "      <th>1</th>\n",
       "      <td>0</td>\n",
       "      <td>5</td>\n",
       "    </tr>\n",
       "  </tbody>\n",
       "</table>\n",
       "</div>"
      ],
      "text/plain": [
       "Predicted  0  1\n",
       "Actual         \n",
       "0          5  0\n",
       "1          0  5"
      ]
     },
     "execution_count": 80,
     "metadata": {},
     "output_type": "execute_result"
    }
   ],
   "source": [
    "# confusion matrix\n",
    "pd.crosstab(labels, y_pred, rownames=['Actual'], colnames=['Predicted'])"
   ]
  },
  {
   "cell_type": "code",
   "execution_count": 84,
   "id": "realistic-subscription",
   "metadata": {},
   "outputs": [
    {
     "name": "stdout",
     "output_type": "stream",
     "text": [
      "              precision    recall  f1-score   support\n",
      "\n",
      "           0       1.00      1.00      1.00         5\n",
      "           1       1.00      1.00      1.00         5\n",
      "\n",
      "    accuracy                           1.00        10\n",
      "   macro avg       1.00      1.00      1.00        10\n",
      "weighted avg       1.00      1.00      1.00        10\n",
      "\n"
     ]
    }
   ],
   "source": [
    "# score\n",
    "print(classification_report(labels, y_pred))"
   ]
  },
  {
   "cell_type": "markdown",
   "id": "brazilian-robertson",
   "metadata": {},
   "source": [
    "긍정과 부정 리뷰 모두 잘 예측함을 확인 할 수 있다"
   ]
  }
 ],
 "metadata": {
  "kernelspec": {
   "display_name": "Python 3",
   "language": "python",
   "name": "python3"
  },
  "language_info": {
   "codemirror_mode": {
    "name": "ipython",
    "version": 3
   },
   "file_extension": ".py",
   "mimetype": "text/x-python",
   "name": "python",
   "nbconvert_exporter": "python",
   "pygments_lexer": "ipython3",
   "version": "3.7.6"
  }
 },
 "nbformat": 4,
 "nbformat_minor": 5
}
